{
 "cells": [
  {
   "cell_type": "markdown",
   "id": "fba5a2d7",
   "metadata": {},
   "source": [
    "### Tic Tac Toe Game"
   ]
  },
  {
   "cell_type": "markdown",
   "id": "ca731c6c",
   "metadata": {},
   "source": [
    "***"
   ]
  },
  {
   "cell_type": "code",
   "execution_count": 1,
   "id": "26e6717f",
   "metadata": {},
   "outputs": [],
   "source": [
    "from IPython.display import clear_output\n",
    "\n",
    "def print_board(board):\n",
    "    print(board[0] + \"|\" + board[1] + \"|\" + board[2])\n",
    "    print(\"-+-+-\")\n",
    "    print(board[3] + \"|\" + board[4] + \"|\" + board[5])\n",
    "    print(\"-+-+-\")\n",
    "    print(board[6] + \"|\" + board[7] + \"|\" + board[8])\n",
    "\n",
    "def check_win(board, player):\n",
    "    win = False\n",
    "    if ((board[0] == player and board[1] == player and board[2] == player) or\n",
    "        (board[3] == player and board[4] == player and board[5] == player) or\n",
    "        (board[6] == player and board[7] == player and board[8] == player) or\n",
    "        (board[0] == player and board[3] == player and board[6] == player) or\n",
    "        (board[1] == player and board[4] == player and board[7] == player) or\n",
    "        (board[2] == player and board[5] == player and board[8] == player) or\n",
    "        (board[0] == player and board[4] == player and board[8] == player) or\n",
    "        (board[2] == player and board[4] == player and board[6] == player)):\n",
    "        win = True\n",
    "    return win\n",
    "\n",
    "def tic_tac_toe():\n",
    "    board = [\" \", \" \", \" \", \" \", \" \", \" \", \" \", \" \", \" \"]\n",
    "    current_player = \"X\"\n",
    "    game_over = False\n",
    "    while not game_over:\n",
    "        clear_output()\n",
    "        print_board(board)\n",
    "        move = int(input(f\"Player {current_player}, enter your move (1-9): \"))\n",
    "        if board[move - 1] == \" \":\n",
    "            board[move - 1] = current_player\n",
    "            if check_win(board, current_player):\n",
    "                clear_output()\n",
    "                print_board(board)\n",
    "                print(f\"Player {current_player} wins!\")\n",
    "                game_over = True\n",
    "            elif \" \" not in board:\n",
    "                clear_output()\n",
    "                print_board(board)\n",
    "                print(\"It's a tie!\")\n",
    "                game_over = True\n",
    "            else:\n",
    "                if current_player == \"X\":\n",
    "                    current_player = \"O\"\n",
    "                else:\n",
    "                    current_player = \"X\"\n",
    "        else:\n",
    "            print(\"That space is already taken. Try again.\")"
   ]
  },
  {
   "cell_type": "code",
   "execution_count": 2,
   "id": "d0c5eb51",
   "metadata": {},
   "outputs": [
    {
     "name": "stdout",
     "output_type": "stream",
     "text": [
      "X|O|X\n",
      "-+-+-\n",
      "X|O|O\n",
      "-+-+-\n",
      "X| | \n",
      "Player X wins!\n"
     ]
    }
   ],
   "source": [
    "tic_tac_toe()"
   ]
  },
  {
   "cell_type": "code",
   "execution_count": null,
   "id": "2962d792",
   "metadata": {},
   "outputs": [],
   "source": []
  }
 ],
 "metadata": {
  "kernelspec": {
   "display_name": "Python 3 (ipykernel)",
   "language": "python",
   "name": "python3"
  },
  "language_info": {
   "codemirror_mode": {
    "name": "ipython",
    "version": 3
   },
   "file_extension": ".py",
   "mimetype": "text/x-python",
   "name": "python",
   "nbconvert_exporter": "python",
   "pygments_lexer": "ipython3",
   "version": "3.10.9"
  }
 },
 "nbformat": 4,
 "nbformat_minor": 5
}
